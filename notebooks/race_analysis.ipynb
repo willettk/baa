{
 "cells": [
  {
   "cell_type": "markdown",
   "metadata": {},
   "source": [
    "# Race analysis\n",
    "\n",
    "### Kyle Willett ([@willettk](https://github.com/willettk))\n",
    "\n",
    "Some time-wasting ways of filtering and sorting my personal data from running races. "
   ]
  },
  {
   "cell_type": "code",
   "execution_count": 1,
   "metadata": {
    "collapsed": true
   },
   "outputs": [],
   "source": [
    "# Get them packages\n",
    "\n",
    "import pandas as pd\n",
    "import datetime\n",
    "import re\n",
    "import numpy as np\n",
    "from collections import Counter\n",
    "from IPython.display import display"
   ]
  },
  {
   "cell_type": "code",
   "execution_count": 2,
   "metadata": {
    "collapsed": true
   },
   "outputs": [],
   "source": [
    "# Running data comes from Github-hosted website\n",
    "\n",
    "url = \"http://willettk.github.io/racelist.html\""
   ]
  },
  {
   "cell_type": "code",
   "execution_count": 3,
   "metadata": {
    "collapsed": false
   },
   "outputs": [],
   "source": [
    "# Load into Pandas dataframes\n",
    "\n",
    "races = pd.read_html(url,parse_dates=True)\n",
    "\n",
    "run = races[0]\n",
    "# Rename columns for some easier typing\n",
    "rc = run.columns\n",
    "run.rename(columns={rc[0]:\"date\",\n",
    "                    rc[1]:\"race\",\n",
    "                    rc[2]:\"d_km\",\n",
    "                    rc[3]:\"d_mi\",\n",
    "                    rc[4]:\"location\",\n",
    "                    rc[5]:\"time\",\n",
    "                    rc[6]:\"pace\",\n",
    "                    rc[7]:\"place_overall\",\n",
    "                    rc[8]:\"finishers_overall\",\n",
    "                    rc[9]:\"place_division\",\n",
    "                    rc[10]:\"finishers_division\",\n",
    "                    rc[11]:\"division\"\n",
    "                   },inplace=True)\n",
    "\n",
    "# Ditch the couple races where finishing data\n",
    "# is probably inaccurate, based on lack of pace\n",
    "run = run[[False if type(x) == float and np.isnan(x) else True for x in run.pace]]"
   ]
  },
  {
   "cell_type": "code",
   "execution_count": 4,
   "metadata": {
    "collapsed": true
   },
   "outputs": [],
   "source": [
    "def filter_races(distance):\n",
    "\n",
    "    # Filter for races at a given distance (rounded to nearest tenth of a mile)\n",
    "    \n",
    "    run_columns = ['date','race','location','time','pace','place_overall','finishers_overall','place_division','finishers_division']\n",
    "    dt = run[run['d_mi'].round(1) == distance][run_columns]\n",
    "\n",
    "    try:\n",
    "        dt['date'] = pd.to_datetime(dt.date)\n",
    "    except AttributeError:\n",
    "        print(dt)\n",
    "    dt['pace'] = [datetime.timedelta(minutes=float(x.split()[0].split(':')[0]),\n",
    "                                         seconds=float(x.split()[0].split(':')[1])) for x in dt.pace]\n",
    "    try:\n",
    "        dt['time'] = [datetime.timedelta(hours=float(x.split(':')[0]),\n",
    "                                         minutes=float(x.split(':')[1]),\n",
    "                                         seconds=float(x.split(':')[2])) for x in dt.time]\n",
    "    except IndexError:\n",
    "        dt['time'] = [datetime.timedelta(minutes=float(x.split(':')[0]),\n",
    "                                     seconds=float(x.split(':')[1])) for x in dt.time]\n",
    "\n",
    "\n",
    "    # Restrict to races with data on overall and division placing,\n",
    "    # in case you want to analyze relative performace\n",
    "    dtf = dt[np.isfinite(dt['finishers_overall']) & np.isfinite(dt['finishers_division'])].copy()\n",
    "    for c in dtf.columns[-4:]:\n",
    "        dtf[c] = dtf[c].astype(int)\n",
    "    \n",
    "    return dt,dtf"
   ]
  },
  {
   "cell_type": "code",
   "execution_count": 5,
   "metadata": {
    "collapsed": false
   },
   "outputs": [],
   "source": [
    "def distinct_places(df):\n",
    "    # Find distinct states/polities for a set of races\n",
    "    return Counter([l.split(\",\")[-1].strip() for l in df.location])"
   ]
  },
  {
   "cell_type": "code",
   "execution_count": 6,
   "metadata": {
    "collapsed": false
   },
   "outputs": [],
   "source": [
    "def more_than_once(df):\n",
    "    # Find races run more than once\n",
    "    c = Counter(df.race)\n",
    "    races,count = [],[]\n",
    "    for r in c:\n",
    "        if c[r] > 1:\n",
    "            races.append(r)\n",
    "            count.append(c[r])\n",
    "    \n",
    "    return pd.DataFrame({'race':races},index=count).sort_index(ascending=False)"
   ]
  },
  {
   "cell_type": "code",
   "execution_count": 7,
   "metadata": {
    "collapsed": true
   },
   "outputs": [],
   "source": [
    "def time_formatting(t,verbose=False):\n",
    "    # Output times in something sensibly human-readable\n",
    "    if t.seconds > 3600:\n",
    "        if verbose:\n",
    "            print(\"Formatting as HH:MM:SS\")\n",
    "        timestr = \"{:.0f}:{:02.0f}:{:02.0f}\".format(int(t.seconds / 3600), int((t.seconds % 3600)/60), t.seconds % 60 )\n",
    "    elif t.seconds > 60:\n",
    "        if verbose:\n",
    "            print(\"Formatting as MM:SS\")\n",
    "        timestr = \"{:.0f}:{:02.0f}\".format(int(t.seconds / 60), t.seconds % 60 )\n",
    "    else:\n",
    "        if verbose:\n",
    "            print(\"Formatting as SS\")\n",
    "        timestr = \"{:.0f}\".format(t.seconds)\n",
    "\n",
    "    return timestr"
   ]
  },
  {
   "cell_type": "code",
   "execution_count": 8,
   "metadata": {
    "collapsed": true
   },
   "outputs": [],
   "source": [
    "def personal_best(df):\n",
    "    # Return personal best time at a given distance\n",
    "    best = df.sort_values(\"time\").reset_index().loc[0]\n",
    "    timestr = time_formatting(best.time)\n",
    "\n",
    "    race = best.race\n",
    "    year = best.date.year\n",
    "    d = {'time':timestr,'race':race,'year':year}\n",
    "    \n",
    "    return d"
   ]
  },
  {
   "cell_type": "code",
   "execution_count": 9,
   "metadata": {
    "collapsed": false
   },
   "outputs": [],
   "source": [
    "def summarize(distance):\n",
    "    # Print out everything prettily\n",
    "    dt,dtf = filter_races(distance) \n",
    "    n = len(dt)\n",
    "    print(\"\\nI've run {} race{} of {} mile{}.\\n\".format(n,\"\" if n == 1 else \"s\",distance,\"\" if int(distance) == 1 else \"s\"))\n",
    "    print(\"Personal best: {time}, set at {race} in {year}.\\n\".format(**personal_best(dt)))\n",
    "    print(\"I've run this distance in {}.\\n\".format(re.sub(\"['\\[\\]]\",\"\",str([\"{} ({})\".format(x[0],x[1]) for x in distinct_places(dt).items()]))))\n",
    "    print(\"Races of {} mile{} that I've run more than once:\".format(distance,\"\" if int(distance) == 1 else \"s\"))\n",
    "    #display(dt)\n",
    "    display(more_than_once(dt))"
   ]
  },
  {
   "cell_type": "markdown",
   "metadata": {},
   "source": [
    "### For a given distance, summarize:\n",
    "\n",
    "* number of races\n",
    "* locations\n",
    "* personal best\n",
    "* races run more than once"
   ]
  },
  {
   "cell_type": "code",
   "execution_count": 10,
   "metadata": {
    "collapsed": false
   },
   "outputs": [
    {
     "name": "stdout",
     "output_type": "stream",
     "text": [
      "\n",
      "I've run 27 races of 3.1 miles.\n",
      "\n",
      "Personal best: 18:09, set at Run for the Horses in 2016.\n",
      "\n",
      "I've run this distance in KY (5), MN (18), CO (3), CT (1).\n",
      "\n",
      "Races of 3.1 miles that I've run more than once:\n"
     ]
    },
    {
     "data": {
      "text/html": [
       "<div>\n",
       "<style>\n",
       "    .dataframe thead tr:only-child th {\n",
       "        text-align: right;\n",
       "    }\n",
       "\n",
       "    .dataframe thead th {\n",
       "        text-align: left;\n",
       "    }\n",
       "\n",
       "    .dataframe tbody tr th {\n",
       "        vertical-align: top;\n",
       "    }\n",
       "</style>\n",
       "<table border=\"1\" class=\"dataframe\">\n",
       "  <thead>\n",
       "    <tr style=\"text-align: right;\">\n",
       "      <th></th>\n",
       "      <th>race</th>\n",
       "    </tr>\n",
       "  </thead>\n",
       "  <tbody>\n",
       "    <tr>\n",
       "      <th>3</th>\n",
       "      <td>Victory 5K</td>\n",
       "    </tr>\n",
       "    <tr>\n",
       "      <th>3</th>\n",
       "      <td>Run for the Roses</td>\n",
       "    </tr>\n",
       "    <tr>\n",
       "      <th>2</th>\n",
       "      <td>Highland Fest River Run</td>\n",
       "    </tr>\n",
       "    <tr>\n",
       "      <th>2</th>\n",
       "      <td>Frigid 5</td>\n",
       "    </tr>\n",
       "    <tr>\n",
       "      <th>2</th>\n",
       "      <td>The Human Race</td>\n",
       "    </tr>\n",
       "  </tbody>\n",
       "</table>\n",
       "</div>"
      ],
      "text/plain": [
       "                      race\n",
       "3               Victory 5K\n",
       "3        Run for the Roses\n",
       "2  Highland Fest River Run\n",
       "2                 Frigid 5\n",
       "2           The Human Race"
      ]
     },
     "metadata": {},
     "output_type": "display_data"
    },
    {
     "name": "stdout",
     "output_type": "stream",
     "text": [
      "\n",
      "I've run 25 races of 6.2 miles.\n",
      "\n",
      "Personal best: 38:18, set at Get in Gear in 2016.\n",
      "\n",
      "I've run this distance in United Kingdom (1), KY (1), MN (19), CO (2), WA (2).\n",
      "\n",
      "Races of 6.2 miles that I've run more than once:\n"
     ]
    },
    {
     "data": {
      "text/html": [
       "<div>\n",
       "<style>\n",
       "    .dataframe thead tr:only-child th {\n",
       "        text-align: right;\n",
       "    }\n",
       "\n",
       "    .dataframe thead th {\n",
       "        text-align: left;\n",
       "    }\n",
       "\n",
       "    .dataframe tbody tr th {\n",
       "        vertical-align: top;\n",
       "    }\n",
       "</style>\n",
       "<table border=\"1\" class=\"dataframe\">\n",
       "  <thead>\n",
       "    <tr style=\"text-align: right;\">\n",
       "      <th></th>\n",
       "      <th>race</th>\n",
       "    </tr>\n",
       "  </thead>\n",
       "  <tbody>\n",
       "    <tr>\n",
       "      <th>10</th>\n",
       "      <td>Get in Gear</td>\n",
       "    </tr>\n",
       "    <tr>\n",
       "      <th>6</th>\n",
       "      <td>Victory 10K</td>\n",
       "    </tr>\n",
       "    <tr>\n",
       "      <th>2</th>\n",
       "      <td>Bolder Boulder</td>\n",
       "    </tr>\n",
       "  </tbody>\n",
       "</table>\n",
       "</div>"
      ],
      "text/plain": [
       "              race\n",
       "10     Get in Gear\n",
       "6      Victory 10K\n",
       "2   Bolder Boulder"
      ]
     },
     "metadata": {},
     "output_type": "display_data"
    },
    {
     "name": "stdout",
     "output_type": "stream",
     "text": [
      "\n",
      "I've run 10 races of 10.0 miles.\n",
      "\n",
      "Personal best: 1:02:37, set at TC 10 Mile in 2012.\n",
      "\n",
      "I've run this distance in MN (7), CO (1), WA (2).\n",
      "\n",
      "Races of 10.0 miles that I've run more than once:\n"
     ]
    },
    {
     "data": {
      "text/html": [
       "<div>\n",
       "<style>\n",
       "    .dataframe thead tr:only-child th {\n",
       "        text-align: right;\n",
       "    }\n",
       "\n",
       "    .dataframe thead th {\n",
       "        text-align: left;\n",
       "    }\n",
       "\n",
       "    .dataframe tbody tr th {\n",
       "        vertical-align: top;\n",
       "    }\n",
       "</style>\n",
       "<table border=\"1\" class=\"dataframe\">\n",
       "  <thead>\n",
       "    <tr style=\"text-align: right;\">\n",
       "      <th></th>\n",
       "      <th>race</th>\n",
       "    </tr>\n",
       "  </thead>\n",
       "  <tbody>\n",
       "    <tr>\n",
       "      <th>3</th>\n",
       "      <td>TC 10 Mile</td>\n",
       "    </tr>\n",
       "    <tr>\n",
       "      <th>2</th>\n",
       "      <td>Bridle Trails Winter Running Festival</td>\n",
       "    </tr>\n",
       "  </tbody>\n",
       "</table>\n",
       "</div>"
      ],
      "text/plain": [
       "                                    race\n",
       "3                             TC 10 Mile\n",
       "2  Bridle Trails Winter Running Festival"
      ]
     },
     "metadata": {},
     "output_type": "display_data"
    },
    {
     "name": "stdout",
     "output_type": "stream",
     "text": [
      "\n",
      "I've run 32 races of 13.1 miles.\n",
      "\n",
      "Personal best: 1:22:35, set at Skagit Flats Half Marathon in 2017.\n",
      "\n",
      "I've run this distance in CO (6), WA (5), MN (16), Ireland (1), IA (1), KY (1), FL (1), WY (1).\n",
      "\n",
      "Races of 13.1 miles that I've run more than once:\n"
     ]
    },
    {
     "data": {
      "text/html": [
       "<div>\n",
       "<style>\n",
       "    .dataframe thead tr:only-child th {\n",
       "        text-align: right;\n",
       "    }\n",
       "\n",
       "    .dataframe thead th {\n",
       "        text-align: left;\n",
       "    }\n",
       "\n",
       "    .dataframe tbody tr th {\n",
       "        vertical-align: top;\n",
       "    }\n",
       "</style>\n",
       "<table border=\"1\" class=\"dataframe\">\n",
       "  <thead>\n",
       "    <tr style=\"text-align: right;\">\n",
       "      <th></th>\n",
       "      <th>race</th>\n",
       "    </tr>\n",
       "  </thead>\n",
       "  <tbody>\n",
       "    <tr>\n",
       "      <th>4</th>\n",
       "      <td>Mora Half Marathon</td>\n",
       "    </tr>\n",
       "    <tr>\n",
       "      <th>2</th>\n",
       "      <td>New Prague Half Marathon</td>\n",
       "    </tr>\n",
       "    <tr>\n",
       "      <th>2</th>\n",
       "      <td>Minnesota Half Marathon</td>\n",
       "    </tr>\n",
       "    <tr>\n",
       "      <th>2</th>\n",
       "      <td>Half Fast Half Marathon</td>\n",
       "    </tr>\n",
       "  </tbody>\n",
       "</table>\n",
       "</div>"
      ],
      "text/plain": [
       "                       race\n",
       "4        Mora Half Marathon\n",
       "2  New Prague Half Marathon\n",
       "2   Minnesota Half Marathon\n",
       "2   Half Fast Half Marathon"
      ]
     },
     "metadata": {},
     "output_type": "display_data"
    },
    {
     "name": "stdout",
     "output_type": "stream",
     "text": [
      "\n",
      "I've run 9 races of 15.5 miles.\n",
      "\n",
      "Personal best: 1:43:31, set at Ron Daws 25K in 2016.\n",
      "\n",
      "I've run this distance in MN (5), CO (2), WA (1), TX (1).\n",
      "\n",
      "Races of 15.5 miles that I've run more than once:\n"
     ]
    },
    {
     "data": {
      "text/html": [
       "<div>\n",
       "<style>\n",
       "    .dataframe thead tr:only-child th {\n",
       "        text-align: right;\n",
       "    }\n",
       "\n",
       "    .dataframe thead th {\n",
       "        text-align: left;\n",
       "    }\n",
       "\n",
       "    .dataframe tbody tr th {\n",
       "        vertical-align: top;\n",
       "    }\n",
       "</style>\n",
       "<table border=\"1\" class=\"dataframe\">\n",
       "  <thead>\n",
       "    <tr style=\"text-align: right;\">\n",
       "      <th></th>\n",
       "      <th>race</th>\n",
       "    </tr>\n",
       "  </thead>\n",
       "  <tbody>\n",
       "    <tr>\n",
       "      <th>3</th>\n",
       "      <td>Afton Trail Run</td>\n",
       "    </tr>\n",
       "    <tr>\n",
       "      <th>2</th>\n",
       "      <td>Greenland Trail Races</td>\n",
       "    </tr>\n",
       "  </tbody>\n",
       "</table>\n",
       "</div>"
      ],
      "text/plain": [
       "                    race\n",
       "3        Afton Trail Run\n",
       "2  Greenland Trail Races"
      ]
     },
     "metadata": {},
     "output_type": "display_data"
    },
    {
     "name": "stdout",
     "output_type": "stream",
     "text": [
      "\n",
      "I've run 9 races of 26.2 miles.\n",
      "\n",
      "Personal best: 2:56:33, set at Lake Wobegon Trail Marathon in 2016.\n",
      "\n",
      "I've run this distance in MA (1), MN (4), CO (3), PA (1).\n",
      "\n",
      "Races of 26.2 miles that I've run more than once:\n"
     ]
    },
    {
     "data": {
      "text/html": [
       "<div>\n",
       "<style>\n",
       "    .dataframe thead tr:only-child th {\n",
       "        text-align: right;\n",
       "    }\n",
       "\n",
       "    .dataframe thead th {\n",
       "        text-align: left;\n",
       "    }\n",
       "\n",
       "    .dataframe tbody tr th {\n",
       "        vertical-align: top;\n",
       "    }\n",
       "</style>\n",
       "<table border=\"1\" class=\"dataframe\">\n",
       "  <thead>\n",
       "    <tr style=\"text-align: right;\">\n",
       "      <th></th>\n",
       "      <th>race</th>\n",
       "    </tr>\n",
       "  </thead>\n",
       "  <tbody>\n",
       "  </tbody>\n",
       "</table>\n",
       "</div>"
      ],
      "text/plain": [
       "Empty DataFrame\n",
       "Columns: [race]\n",
       "Index: []"
      ]
     },
     "metadata": {},
     "output_type": "display_data"
    }
   ],
   "source": [
    "# Only summarize the N most common distances\n",
    "nd = 6\n",
    "\n",
    "mcd = [round(float(x[0]),1) for x in Counter(run['d_mi']).most_common(nd)]\n",
    "mcd.sort()\n",
    "for d in mcd:\n",
    "    summarize(d)"
   ]
  },
  {
   "cell_type": "markdown",
   "metadata": {},
   "source": [
    "### How has my personal best for each distance progressed?"
   ]
  },
  {
   "cell_type": "code",
   "execution_count": 11,
   "metadata": {
    "collapsed": true
   },
   "outputs": [],
   "source": [
    "def personal_best_progression(distance=13.1):\n",
    "    \n",
    "    # In ascending chronological order for a given distance,\n",
    "    # print out all races which set or equalled a previous personal best time.\n",
    "    \n",
    "    dt,dtf = filter_races(distance) \n",
    "    n = len(dt)\n",
    "    if n > 0:\n",
    "        firstrace = dt.iloc[0]\n",
    "        best = firstrace.time\n",
    "        bestyear = firstrace.date.year\n",
    "        timestr = time_formatting(firstrace.time)\n",
    "        print(\"Personal best progression of {} miles ({} race{}):\\n\".format(distance,n,\"\" if n == 1 else \"s\"))\n",
    "        print(\"\\tFirst run {}: {} at {}.\".format(firstrace.date.year,timestr,firstrace.race))\n",
    "        for i in range(n-1):\n",
    "            row = dt.iloc[i+1]\n",
    "            if row.time <= best:\n",
    "                timestr_new = time_formatting(row.time)\n",
    "                print(\"\\tNew PB in {}: {} at {}.\".format(row.date.year,timestr_new,row.race,))\n",
    "                best = row.time\n",
    "    else:\n",
    "        print(\"No races found for distance of {} miles.\".format(distance))\n",
    "\n",
    "    return None"
   ]
  },
  {
   "cell_type": "code",
   "execution_count": 12,
   "metadata": {
    "collapsed": false
   },
   "outputs": [
    {
     "name": "stdout",
     "output_type": "stream",
     "text": [
      "Personal best progression of 13.1 miles (32 races):\n",
      "\n",
      "\tFirst run 2001: 1:41:18 at Mora Half Marathon.\n",
      "\tNew PB in 2007: 1:32:49 at Georgetown to Idaho Springs Half Marathon.\n",
      "\tNew PB in 2008: 1:31:54 at Apple Blossom Races.\n",
      "\tNew PB in 2008: 1:30:52 at American Discovery Trail Half Marathon.\n",
      "\tNew PB in 2008: 1:28:02 at Heart Center of the Rockies Half Marathon.\n",
      "\tNew PB in 2009: 1:27:53 at Indian Summer Half Marathon.\n",
      "\tNew PB in 2010: 1:27:07 at Minnesota Half Marathon.\n",
      "\tNew PB in 2013: 1:25:49 at Half Fast Half Marathon.\n",
      "\tNew PB in 2017: 1:22:35 at Skagit Flats Half Marathon.\n"
     ]
    }
   ],
   "source": [
    "# Example of progression of personal bests\n",
    "personal_best_progression(13.1)"
   ]
  },
  {
   "cell_type": "markdown",
   "metadata": {},
   "source": [
    "### How have I done, year over year, in setting personal bests?"
   ]
  },
  {
   "cell_type": "code",
   "execution_count": 13,
   "metadata": {
    "collapsed": true
   },
   "outputs": [],
   "source": [
    "# Only consider PBs at the most common/iconic distances. \n",
    "distances = {1:\"1 mile\",3.1:\"5 km\",6.2:\"10 km\",13.1:\"half marathon\",26.2:\"marathon\"}\n",
    "distances_rev = {v:k for k,v in distances.items()}"
   ]
  },
  {
   "cell_type": "code",
   "execution_count": 14,
   "metadata": {
    "collapsed": false
   },
   "outputs": [
    {
     "name": "stdout",
     "output_type": "stream",
     "text": [
      "(1997, ['5 km'])\n",
      "(1998, ['5 km'])\n",
      "(1999, ['5 km', '10 km'])\n",
      "(2000, ['5 km', '10 km'])\n",
      "(2001, ['5 km', 'half marathon'])\n",
      "(2002, ['5 km', '10 km'])\n",
      "(2003, ['10 km'])\n",
      "(2004, ['marathon'])\n",
      "(2005, None)\n",
      "(2006, None)\n",
      "(2007, ['half marathon'])\n",
      "(2008, ['half marathon'])\n",
      "(2009, ['half marathon'])\n",
      "(2010, ['5 km', 'half marathon'])\n",
      "(2011, ['5 km', '10 km'])\n",
      "(2012, ['marathon'])\n",
      "(2013, ['half marathon'])\n",
      "(2014, ['10 km'])\n",
      "(2015, ['1 mile', '5 km'])\n",
      "(2016, ['1 mile', '5 km', '10 km', 'marathon'])\n",
      "(2017, ['half marathon'])\n"
     ]
    }
   ],
   "source": [
    "# Find range of years of active running\n",
    "pb = {}\n",
    "start_year = pd.to_datetime(run.iloc[0].date).year\n",
    "this_year = datetime.datetime.now().year\n",
    "for year in range(start_year,this_year+1):\n",
    "    pb[year] = []\n",
    "\n",
    "# Append if a PB is set for any of the selected distances\n",
    "for distance in distances.keys():\n",
    "    dt,dtf = filter_races(distance) \n",
    "    n = len(dt)\n",
    "    if n > 0:\n",
    "        firstrace = dt.iloc[0]\n",
    "        best = firstrace.time\n",
    "        pb[firstrace.date.year].append(distances[distance])\n",
    "        for i in range(n-1):\n",
    "            row = dt.iloc[i+1]\n",
    "            if row.time <= best:\n",
    "                pb[row.date.year].append(distances[distance])\n",
    "                best = row.time\n",
    "\n",
    "# Print list of results for each year\n",
    "years = sorted(list(pb.keys()))\n",
    "for year in years:\n",
    "    sorted_pbs = sorted(list(set(pb[year])),key = lambda x: distances_rev[x])\n",
    "    print(year, sorted_pbs if len(pb[year]) > 0 else None)"
   ]
  },
  {
   "cell_type": "markdown",
   "metadata": {},
   "source": [
    "2016 was a really good year for me - PRs at four distances, from 1 mile up to the marathon. And I've been lucky to be consistently improving, even well into my 30s; except for my break from running in 2005 and 2006, I've set a PR at one of the standard distances every single year. "
   ]
  },
  {
   "cell_type": "markdown",
   "metadata": {
    "collapsed": true
   },
   "source": [
    "#### Number of races per year\n",
    "\n",
    "Plot the total number of races per year and label the maximum."
   ]
  },
  {
   "cell_type": "code",
   "execution_count": 15,
   "metadata": {
    "collapsed": true
   },
   "outputs": [],
   "source": [
    "from matplotlib import pyplot as plt\n",
    "import seaborn as sns\n",
    "\n",
    "%matplotlib inline"
   ]
  },
  {
   "cell_type": "code",
   "execution_count": 16,
   "metadata": {
    "collapsed": true
   },
   "outputs": [],
   "source": [
    "# Number of races per year\n",
    "years = [x.year for x in pd.to_datetime(run.date)]"
   ]
  },
  {
   "cell_type": "code",
   "execution_count": 17,
   "metadata": {
    "collapsed": true
   },
   "outputs": [],
   "source": [
    "# Number of total miles run each year in races\n",
    "z = [(d.year,int(m)) for d,m in zip(pd.to_datetime(run.date),run.d_mi)]\n",
    "l = [[a,]*b for a,b in z]\n",
    "flat_list = [item for sublist in l for item in sublist]"
   ]
  },
  {
   "cell_type": "code",
   "execution_count": 18,
   "metadata": {
    "collapsed": true
   },
   "outputs": [],
   "source": [
    "def label_max(histobj,ax,title):\n",
    "    counts,yearbins,desc = histobj\n",
    "    argmax = counts.argmax()\n",
    "    ax.text(yearbins[argmax],counts[argmax],\"{:.0f}: {:.0f} {}\".format(yearbins[argmax]+eps,counts[argmax],title)\n",
    "         ,va='bottom'\n",
    "         ,color='red')"
   ]
  },
  {
   "cell_type": "code",
   "execution_count": 19,
   "metadata": {
    "collapsed": false
   },
   "outputs": [
    {
     "data": {
      "image/png": "[encoded data removed]",
      "text/plain": [
       "<matplotlib.figure.Figure at 0x118f75250>"
      ]
     },
     "metadata": {},
     "output_type": "display_data"
    }
   ],
   "source": [
    "fig,axarr = plt.subplots(1,2,figsize=(15,7))\n",
    "eps = 0.5\n",
    "bins = np.arange(min(years)-eps,max(years)+eps+1,1)\n",
    "\n",
    "for ax,data,label in zip(axarr,(years,flat_list),('races','miles')):\n",
    "    histobj = ax.hist(data,bins=bins)\n",
    "    ax.set_xlabel(\"Year\",fontsize=14)\n",
    "    ax.set_ylabel(label.capitalize(),fontsize=14)\n",
    "    label_max(histobj,ax,label);"
   ]
  },
  {
   "cell_type": "markdown",
   "metadata": {},
   "source": [
    "### Total race miles"
   ]
  },
  {
   "cell_type": "code",
   "execution_count": 27,
   "metadata": {
    "collapsed": false
   },
   "outputs": [
    {
     "name": "stdout",
     "output_type": "stream",
     "text": [
      "I've run 1516 total miles in 144 races.\n"
     ]
    }
   ],
   "source": [
    "print(\"I've run {:.0f} total miles in {:d} races.\".format(run['d_mi'].sum(),len(run)))"
   ]
  },
  {
   "cell_type": "code",
   "execution_count": null,
   "metadata": {
    "collapsed": true
   },
   "outputs": [],
   "source": []
  }
 ],
 "metadata": {
  "kernelspec": {
   "display_name": "Python 2",
   "language": "python",
   "name": "python2"
  },
  "language_info": {
   "codemirror_mode": {
    "name": "ipython",
    "version": 2
   },
   "file_extension": ".py",
   "mimetype": "text/x-python",
   "name": "python",
   "nbconvert_exporter": "python",
   "pygments_lexer": "ipython2",
   "version": "2.7.13"
  }
 },
 "nbformat": 4,
 "nbformat_minor": 2
}
