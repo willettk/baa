{
 "cells": [
  {
   "cell_type": "markdown",
   "metadata": {},
   "source": [
    "# Race analysis\n",
    "\n",
    "### Kyle Willett ([@willettk](https://github.com/willettk))\n",
    "\n",
    "Some time-wasting ways of filtering and sorting my personal data from running races. "
   ]
  },
  {
   "cell_type": "code",
   "execution_count": 36,
   "metadata": {
    "collapsed": true
   },
   "outputs": [],
   "source": [
    "# Get them packages\n",
    "\n",
    "import datetime\n",
    "import re\n",
    "from collections import Counter\n",
    "from operator import itemgetter\n",
    "\n",
    "import pandas as pd\n",
    "import numpy as np\n",
    "\n",
    "from IPython.display import display"
   ]
  },
  {
   "cell_type": "code",
   "execution_count": 37,
   "metadata": {
    "collapsed": true
   },
   "outputs": [],
   "source": [
    "# Running data can be either from live website or local file\n",
    "\n",
    "getLocalData = True\n",
    "localFile = \"/Users/willettk/willettk.github.io/content/racelist.html\"\n",
    "url = \"http://willettk.github.io/racelist.html\"\n",
    "\n",
    "dataIO = localFile if getLocalData else url\n",
    "races = pd.read_html(dataIO)"
   ]
  },
  {
   "cell_type": "code",
   "execution_count": 38,
   "metadata": {
    "collapsed": false
   },
   "outputs": [],
   "source": [
    "# Pre-process data as pandas DataFrame\n",
    "\n",
    "run = races[0]\n",
    "\n",
    "# Rename columns for some easier typing\n",
    "rc = run.columns\n",
    "run.rename(columns={rc[0]:\"date\",\n",
    "                    rc[1]:\"race\",\n",
    "                    rc[2]:\"d_km\",\n",
    "                    rc[3]:\"d_mi\",\n",
    "                    rc[4]:\"location\",\n",
    "                    rc[5]:\"time\",\n",
    "                    rc[6]:\"pace\",\n",
    "                    rc[7]:\"place_overall\",\n",
    "                    rc[8]:\"finishers_overall\",\n",
    "                    rc[9]:\"place_division\",\n",
    "                    rc[10]:\"finishers_division\",\n",
    "                    rc[11]:\"division\"\n",
    "                   },inplace=True)\n",
    "\n",
    "# Convert to int where possible\n",
    "for col in ('place_overall','finishers_overall','place_division','finishers_division'):\n",
    "    run[col] = run[col].fillna(-1).astype(int)\n",
    "\n",
    "# Ditch races where finishing data is probably inaccurate, based on lack of pace\n",
    "run = run[[False if type(x) == float and np.isnan(x) else True for x in run.pace]]"
   ]
  },
  {
   "cell_type": "code",
   "execution_count": 95,
   "metadata": {
    "collapsed": true
   },
   "outputs": [],
   "source": [
    "def parse_races(dt):\n",
    "\n",
    "    try:\n",
    "        dt['date'] = pd.to_datetime(dt.date)\n",
    "    except AttributeError:\n",
    "        print(dt)\n",
    "    dt['pace'] = [datetime.timedelta(minutes=float(x.split()[0].split(':')[0]),\n",
    "                                         seconds=float(x.split()[0].split(':')[1])) for x in dt.pace]\n",
    "    try:\n",
    "        dt['time'] = [datetime.timedelta(hours=float(x.split(':')[0]),\n",
    "                                         minutes=float(x.split(':')[1]),\n",
    "                                         seconds=float(x.split(':')[2])) for x in dt.time]\n",
    "    except IndexError:\n",
    "        dt['time'] = [datetime.timedelta(minutes=float(x.split(':')[0]),\n",
    "                                     seconds=float(x.split(':')[1])) for x in dt.time]\n",
    "\n",
    "\n",
    "    # Restrict to races with data on overall and division placing\n",
    "\n",
    "    dtf = dt[np.isfinite(dt['finishers_overall']) & np.isfinite(dt['finishers_division'])].copy()\n",
    "    for c in dtf.columns[-4:]:\n",
    "        dtf[c] = dtf[c].astype(int)\n",
    "    \n",
    "    return dt,dtf"
   ]
  },
  {
   "cell_type": "code",
   "execution_count": 98,
   "metadata": {
    "collapsed": true
   },
   "outputs": [],
   "source": [
    "def filter_races(distance=None):\n",
    "\n",
    "    # Filter for races at a given distance (rounded to nearest tenth of a mile)\n",
    "    \n",
    "    run_columns = ['date','race','location','time','pace',\n",
    "                   'place_overall','finishers_overall',\n",
    "                   'place_division','finishers_division']\n",
    "    \n",
    "    if distance != None:\n",
    "        dt = run.copy()[run['d_mi'].round(1) == distance][run_columns]\n",
    "    else:\n",
    "        dt = run.copy()[run_columns]\n",
    "\n",
    "    dt,dtf = parse_races(dt)\n",
    "    \n",
    "    return dt,dtf"
   ]
  },
  {
   "cell_type": "code",
   "execution_count": 40,
   "metadata": {
    "collapsed": false
   },
   "outputs": [],
   "source": [
    "def distinct_places(df):\n",
    "    # Find distinct states/polities for a set of races\n",
    "    return Counter([l.split(\",\")[-1].strip() for l in df.location])"
   ]
  },
  {
   "cell_type": "code",
   "execution_count": 41,
   "metadata": {
    "collapsed": false
   },
   "outputs": [],
   "source": [
    "def more_than_once(df):\n",
    "    # Find races run more than once\n",
    "    c = Counter(df.race)\n",
    "    races,count = [],[]\n",
    "    for r in c:\n",
    "        if c[r] > 1:\n",
    "            races.append(r)\n",
    "            count.append(c[r])\n",
    "    \n",
    "    return pd.DataFrame({'race':races},index=count).sort_index(ascending=False)"
   ]
  },
  {
   "cell_type": "code",
   "execution_count": 42,
   "metadata": {
    "collapsed": true
   },
   "outputs": [],
   "source": [
    "def time_formatting(t,verbose=False):\n",
    "    # Output times in something sensibly human-readable\n",
    "    if t.seconds > 3600:\n",
    "        if verbose:\n",
    "            print(\"Formatting as HH:MM:SS\")\n",
    "        timestr = \"{:.0f}:{:02.0f}:{:02.0f}\".format(int(t.seconds / 3600), int((t.seconds % 3600)/60), t.seconds % 60 )\n",
    "    elif t.seconds > 60:\n",
    "        if verbose:\n",
    "            print(\"Formatting as MM:SS\")\n",
    "        timestr = \"{:.0f}:{:02.0f}\".format(int(t.seconds / 60), t.seconds % 60 )\n",
    "    else:\n",
    "        if verbose:\n",
    "            print(\"Formatting as SS\")\n",
    "        timestr = \"{:.0f}\".format(t.seconds)\n",
    "\n",
    "    return timestr"
   ]
  },
  {
   "cell_type": "code",
   "execution_count": 43,
   "metadata": {
    "collapsed": true
   },
   "outputs": [],
   "source": [
    "def personal_best(df):\n",
    "    # Return personal best time at a given distance\n",
    "    best = df.sort_values(\"time\").reset_index().loc[0]\n",
    "    timestr = time_formatting(best.time)\n",
    "\n",
    "    race = best.race\n",
    "    year = best.date.year\n",
    "    d = {'time':timestr,'race':race,'year':year}\n",
    "    \n",
    "    return d"
   ]
  },
  {
   "cell_type": "code",
   "execution_count": 135,
   "metadata": {
    "collapsed": false
   },
   "outputs": [],
   "source": [
    "placeList = "
   ]
  },
  {
   "cell_type": "code",
   "execution_count": 138,
   "metadata": {
    "collapsed": false
   },
   "outputs": [],
   "source": [
    "def summarize(distance=None):\n",
    "    \n",
    "    # Print out everything prettily\n",
    "    dt,dtf = filter_races(distance) \n",
    "    n = len(dt)\n",
    "    \n",
    "    placeListRaw = distinct_places(dt).items()\n",
    "    placeList = [(x[0],x[1],len(x[0])) for x in placeListRaw]\n",
    "    placeList.sort(key=itemgetter(0))\n",
    "    placeList.sort(key=itemgetter(2),reverse=True)\n",
    "    placeList.sort(key=itemgetter(1),reverse=True)\n",
    "\n",
    "    mo = more_than_once(dt)\n",
    "\n",
    "    if distance != None:\n",
    "        print(\"\\nI've run {} race{} of {} mile{}.\\n\".format(\n",
    "            n,\"\" if n == 1 else \"s\",distance,\"\" if int(distance) == 1 else \"s\"))\n",
    "        \n",
    "        if n > 0:\n",
    "            print(\"Personal best: {time}, set at {race} in {year}.\\n\".format(**personal_best(dt)))\n",
    "\n",
    "            print(\"I've run {} mile{} in {}.\\n\".format(distance,\"\" if int(distance) == 1 else \"s\",\n",
    "                re.sub(\"['\\[\\]]\",\"\",str([\"{} ({})\".format(x[0],x[1]) for x in placeList]))))\n",
    "        \n",
    "        distanceStr = '{} mile-'.format(distance)\n",
    "        \n",
    "    else:\n",
    "        print(\"I've run races in {}.\\n\".format(re.sub(\"['\\[\\]]\",\"\",str([\"{} ({})\".format(\n",
    "            x[0],x[1]) for x in placeList]))))\n",
    "        distanceStr = ''\n",
    "\n",
    "    if len(mo) > 0:\n",
    "        if distance != None:\n",
    "            print(\"Races of {} mile{} that I've run more than once:\".format(\n",
    "                distance,\"\" if int(distance) == 1 else \"s\"))\n",
    "        else:\n",
    "            print(\"Races that I've run more than once:\")\n",
    "        display(mo)\n",
    "    else:\n",
    "        print(\"I've never run the same {}race more than once.\".format(distanceStr))\n"
   ]
  },
  {
   "cell_type": "markdown",
   "metadata": {},
   "source": [
    "### For a given distance, summarize:\n",
    "\n",
    "* number of races\n",
    "* locations\n",
    "* personal best\n",
    "* races run more than once"
   ]
  },
  {
   "cell_type": "code",
   "execution_count": 139,
   "metadata": {
    "collapsed": false
   },
   "outputs": [
    {
     "name": "stdout",
     "output_type": "stream",
     "text": [
      "\n",
      "I've run 30 races of 3.1 miles.\n",
      "\n",
      "Personal best: 18:09, set at Run for the Horses in 2016.\n",
      "\n",
      "I've run 3.1 miles in MN (19), KY (5), CO (3), India (1), CT (1), WA (1).\n",
      "\n",
      "Races of 3.1 miles that I've run more than once:\n"
     ]
    },
    {
     "data": {
      "text/html": [
       "<div>\n",
       "<style scoped>\n",
       "    .dataframe tbody tr th:only-of-type {\n",
       "        vertical-align: middle;\n",
       "    }\n",
       "\n",
       "    .dataframe tbody tr th {\n",
       "        vertical-align: top;\n",
       "    }\n",
       "\n",
       "    .dataframe thead th {\n",
       "        text-align: right;\n",
       "    }\n",
       "</style>\n",
       "<table border=\"1\" class=\"dataframe\">\n",
       "  <thead>\n",
       "    <tr style=\"text-align: right;\">\n",
       "      <th></th>\n",
       "      <th>race</th>\n",
       "    </tr>\n",
       "  </thead>\n",
       "  <tbody>\n",
       "    <tr>\n",
       "      <th>4</th>\n",
       "      <td>Victory 5K</td>\n",
       "    </tr>\n",
       "    <tr>\n",
       "      <th>3</th>\n",
       "      <td>Run for the Roses</td>\n",
       "    </tr>\n",
       "    <tr>\n",
       "      <th>2</th>\n",
       "      <td>Frigid 5</td>\n",
       "    </tr>\n",
       "    <tr>\n",
       "      <th>2</th>\n",
       "      <td>The Human Race</td>\n",
       "    </tr>\n",
       "    <tr>\n",
       "      <th>2</th>\n",
       "      <td>Highland Fest River Run</td>\n",
       "    </tr>\n",
       "  </tbody>\n",
       "</table>\n",
       "</div>"
      ],
      "text/plain": [
       "                      race\n",
       "4               Victory 5K\n",
       "3        Run for the Roses\n",
       "2                 Frigid 5\n",
       "2           The Human Race\n",
       "2  Highland Fest River Run"
      ]
     },
     "metadata": {},
     "output_type": "display_data"
    },
    {
     "name": "stdout",
     "output_type": "stream",
     "text": [
      "\n",
      "I've run 27 races of 6.2 miles.\n",
      "\n",
      "Personal best: 37:58, set at Victory 10K in 2018.\n",
      "\n",
      "I've run 6.2 miles in MN (20), WA (3), CO (2), United Kingdom (1), KY (1).\n",
      "\n",
      "Races of 6.2 miles that I've run more than once:\n"
     ]
    },
    {
     "data": {
      "text/html": [
       "<div>\n",
       "<style scoped>\n",
       "    .dataframe tbody tr th:only-of-type {\n",
       "        vertical-align: middle;\n",
       "    }\n",
       "\n",
       "    .dataframe tbody tr th {\n",
       "        vertical-align: top;\n",
       "    }\n",
       "\n",
       "    .dataframe thead th {\n",
       "        text-align: right;\n",
       "    }\n",
       "</style>\n",
       "<table border=\"1\" class=\"dataframe\">\n",
       "  <thead>\n",
       "    <tr style=\"text-align: right;\">\n",
       "      <th></th>\n",
       "      <th>race</th>\n",
       "    </tr>\n",
       "  </thead>\n",
       "  <tbody>\n",
       "    <tr>\n",
       "      <th>10</th>\n",
       "      <td>Get in Gear</td>\n",
       "    </tr>\n",
       "    <tr>\n",
       "      <th>7</th>\n",
       "      <td>Victory 10K</td>\n",
       "    </tr>\n",
       "    <tr>\n",
       "      <th>2</th>\n",
       "      <td>Bolder Boulder</td>\n",
       "    </tr>\n",
       "  </tbody>\n",
       "</table>\n",
       "</div>"
      ],
      "text/plain": [
       "              race\n",
       "10     Get in Gear\n",
       "7      Victory 10K\n",
       "2   Bolder Boulder"
      ]
     },
     "metadata": {},
     "output_type": "display_data"
    },
    {
     "name": "stdout",
     "output_type": "stream",
     "text": [
      "\n",
      "I've run 11 races of 10.0 miles.\n",
      "\n",
      "Personal best: 1:02:37, set at TC 10 Mile in 2012.\n",
      "\n",
      "I've run 10.0 miles in MN (7), WA (3), CO (1).\n",
      "\n",
      "Races of 10.0 miles that I've run more than once:\n"
     ]
    },
    {
     "data": {
      "text/html": [
       "<div>\n",
       "<style scoped>\n",
       "    .dataframe tbody tr th:only-of-type {\n",
       "        vertical-align: middle;\n",
       "    }\n",
       "\n",
       "    .dataframe tbody tr th {\n",
       "        vertical-align: top;\n",
       "    }\n",
       "\n",
       "    .dataframe thead th {\n",
       "        text-align: right;\n",
       "    }\n",
       "</style>\n",
       "<table border=\"1\" class=\"dataframe\">\n",
       "  <thead>\n",
       "    <tr style=\"text-align: right;\">\n",
       "      <th></th>\n",
       "      <th>race</th>\n",
       "    </tr>\n",
       "  </thead>\n",
       "  <tbody>\n",
       "    <tr>\n",
       "      <th>3</th>\n",
       "      <td>TC 10 Mile</td>\n",
       "    </tr>\n",
       "    <tr>\n",
       "      <th>2</th>\n",
       "      <td>Bridle Trails Winter Running Festival</td>\n",
       "    </tr>\n",
       "  </tbody>\n",
       "</table>\n",
       "</div>"
      ],
      "text/plain": [
       "                                    race\n",
       "3                             TC 10 Mile\n",
       "2  Bridle Trails Winter Running Festival"
      ]
     },
     "metadata": {},
     "output_type": "display_data"
    },
    {
     "name": "stdout",
     "output_type": "stream",
     "text": [
      "\n",
      "I've run 39 races of 13.1 miles.\n",
      "\n",
      "Personal best: 1:22:16, set at Snohomish River Run in 2018.\n",
      "\n",
      "I've run 13.1 miles in MN (16), WA (12), CO (6), Ireland (1), FL (1), IA (1), KY (1), WY (1).\n",
      "\n",
      "Races of 13.1 miles that I've run more than once:\n"
     ]
    },
    {
     "data": {
      "text/html": [
       "<div>\n",
       "<style scoped>\n",
       "    .dataframe tbody tr th:only-of-type {\n",
       "        vertical-align: middle;\n",
       "    }\n",
       "\n",
       "    .dataframe tbody tr th {\n",
       "        vertical-align: top;\n",
       "    }\n",
       "\n",
       "    .dataframe thead th {\n",
       "        text-align: right;\n",
       "    }\n",
       "</style>\n",
       "<table border=\"1\" class=\"dataframe\">\n",
       "  <thead>\n",
       "    <tr style=\"text-align: right;\">\n",
       "      <th></th>\n",
       "      <th>race</th>\n",
       "    </tr>\n",
       "  </thead>\n",
       "  <tbody>\n",
       "    <tr>\n",
       "      <th>4</th>\n",
       "      <td>Mora Half Marathon</td>\n",
       "    </tr>\n",
       "    <tr>\n",
       "      <th>2</th>\n",
       "      <td>New Prague Half Marathon</td>\n",
       "    </tr>\n",
       "    <tr>\n",
       "      <th>2</th>\n",
       "      <td>Minnesota Half Marathon</td>\n",
       "    </tr>\n",
       "    <tr>\n",
       "      <th>2</th>\n",
       "      <td>Half Fast Half Marathon</td>\n",
       "    </tr>\n",
       "    <tr>\n",
       "      <th>2</th>\n",
       "      <td>Pie High Trail Run</td>\n",
       "    </tr>\n",
       "  </tbody>\n",
       "</table>\n",
       "</div>"
      ],
      "text/plain": [
       "                       race\n",
       "4        Mora Half Marathon\n",
       "2  New Prague Half Marathon\n",
       "2   Minnesota Half Marathon\n",
       "2   Half Fast Half Marathon\n",
       "2        Pie High Trail Run"
      ]
     },
     "metadata": {},
     "output_type": "display_data"
    },
    {
     "name": "stdout",
     "output_type": "stream",
     "text": [
      "\n",
      "I've run 12 races of 15.5 miles.\n",
      "\n",
      "Personal best: 1:43:31, set at Ron Daws in 2016.\n",
      "\n",
      "I've run 15.5 miles in MN (5), WA (4), CO (2), TX (1).\n",
      "\n",
      "Races of 15.5 miles that I've run more than once:\n"
     ]
    },
    {
     "data": {
      "text/html": [
       "<div>\n",
       "<style scoped>\n",
       "    .dataframe tbody tr th:only-of-type {\n",
       "        vertical-align: middle;\n",
       "    }\n",
       "\n",
       "    .dataframe tbody tr th {\n",
       "        vertical-align: top;\n",
       "    }\n",
       "\n",
       "    .dataframe thead th {\n",
       "        text-align: right;\n",
       "    }\n",
       "</style>\n",
       "<table border=\"1\" class=\"dataframe\">\n",
       "  <thead>\n",
       "    <tr style=\"text-align: right;\">\n",
       "      <th></th>\n",
       "      <th>race</th>\n",
       "    </tr>\n",
       "  </thead>\n",
       "  <tbody>\n",
       "    <tr>\n",
       "      <th>3</th>\n",
       "      <td>Afton Trail Run</td>\n",
       "    </tr>\n",
       "    <tr>\n",
       "      <th>2</th>\n",
       "      <td>Greenland Trail Races</td>\n",
       "    </tr>\n",
       "  </tbody>\n",
       "</table>\n",
       "</div>"
      ],
      "text/plain": [
       "                    race\n",
       "3        Afton Trail Run\n",
       "2  Greenland Trail Races"
      ]
     },
     "metadata": {},
     "output_type": "display_data"
    },
    {
     "name": "stdout",
     "output_type": "stream",
     "text": [
      "\n",
      "I've run 10 races of 26.2 miles.\n",
      "\n",
      "Personal best: 2:56:33, set at Lake Wobegon Trail Marathon in 2016.\n",
      "\n",
      "I've run 26.2 miles in MN (4), CO (3), Luxembourg (1), MA (1), PA (1).\n",
      "\n",
      "I've never run the same 26.2 mile-race more than once.\n"
     ]
    }
   ],
   "source": [
    "# Only summarize the N most common distances\n",
    "nd = 6\n",
    "\n",
    "mcd = [round(float(x[0]),1) for x in Counter(run['d_mi']).most_common(nd)]\n",
    "mcd.sort()\n",
    "for d in mcd:\n",
    "    summarize(d)"
   ]
  },
  {
   "cell_type": "code",
   "execution_count": 140,
   "metadata": {
    "collapsed": false
   },
   "outputs": [
    {
     "name": "stdout",
     "output_type": "stream",
     "text": [
      "I've run races in MN (90), WA (30), CO (21), KY (8), CT (2), WI (2), United Kingdom (1), Luxembourg (1), Belgium (1), Ireland (1), India (1), FL (1), IA (1), MA (1), PA (1), TX (1), UT (1), WY (1).\n",
      "\n",
      "Races that I've run more than once:\n"
     ]
    },
    {
     "data": {
      "text/html": [
       "<div>\n",
       "<style scoped>\n",
       "    .dataframe tbody tr th:only-of-type {\n",
       "        vertical-align: middle;\n",
       "    }\n",
       "\n",
       "    .dataframe tbody tr th {\n",
       "        vertical-align: top;\n",
       "    }\n",
       "\n",
       "    .dataframe thead th {\n",
       "        text-align: right;\n",
       "    }\n",
       "</style>\n",
       "<table border=\"1\" class=\"dataframe\">\n",
       "  <thead>\n",
       "    <tr style=\"text-align: right;\">\n",
       "      <th></th>\n",
       "      <th>race</th>\n",
       "    </tr>\n",
       "  </thead>\n",
       "  <tbody>\n",
       "    <tr>\n",
       "      <th>12</th>\n",
       "      <td>Get in Gear</td>\n",
       "    </tr>\n",
       "    <tr>\n",
       "      <th>7</th>\n",
       "      <td>Victory 10K</td>\n",
       "    </tr>\n",
       "    <tr>\n",
       "      <th>4</th>\n",
       "      <td>Mora Half Marathon</td>\n",
       "    </tr>\n",
       "    <tr>\n",
       "      <th>4</th>\n",
       "      <td>Victory 5K</td>\n",
       "    </tr>\n",
       "    <tr>\n",
       "      <th>3</th>\n",
       "      <td>Bridle Trails Winter Running Festival</td>\n",
       "    </tr>\n",
       "    <tr>\n",
       "      <th>3</th>\n",
       "      <td>MDRA Mudball</td>\n",
       "    </tr>\n",
       "    <tr>\n",
       "      <th>3</th>\n",
       "      <td>TC 10 Mile</td>\n",
       "    </tr>\n",
       "    <tr>\n",
       "      <th>3</th>\n",
       "      <td>Afton Trail Run</td>\n",
       "    </tr>\n",
       "    <tr>\n",
       "      <th>3</th>\n",
       "      <td>Run for the Roses</td>\n",
       "    </tr>\n",
       "    <tr>\n",
       "      <th>2</th>\n",
       "      <td>Frigid 5</td>\n",
       "    </tr>\n",
       "    <tr>\n",
       "      <th>2</th>\n",
       "      <td>Minnesota Half Marathon</td>\n",
       "    </tr>\n",
       "    <tr>\n",
       "      <th>2</th>\n",
       "      <td>Meet of the Miles</td>\n",
       "    </tr>\n",
       "    <tr>\n",
       "      <th>2</th>\n",
       "      <td>Lake Johanna 4 Mile</td>\n",
       "    </tr>\n",
       "    <tr>\n",
       "      <th>2</th>\n",
       "      <td>Greenland Trail Races</td>\n",
       "    </tr>\n",
       "    <tr>\n",
       "      <th>2</th>\n",
       "      <td>Apple Blossom Races</td>\n",
       "    </tr>\n",
       "    <tr>\n",
       "      <th>2</th>\n",
       "      <td>Half Fast Half Marathon</td>\n",
       "    </tr>\n",
       "    <tr>\n",
       "      <th>2</th>\n",
       "      <td>The Human Race</td>\n",
       "    </tr>\n",
       "    <tr>\n",
       "      <th>2</th>\n",
       "      <td>Highland Fest River Run</td>\n",
       "    </tr>\n",
       "    <tr>\n",
       "      <th>2</th>\n",
       "      <td>Big Woods Run</td>\n",
       "    </tr>\n",
       "    <tr>\n",
       "      <th>2</th>\n",
       "      <td>New Prague Half Marathon</td>\n",
       "    </tr>\n",
       "    <tr>\n",
       "      <th>2</th>\n",
       "      <td>Pie High Trail Run</td>\n",
       "    </tr>\n",
       "    <tr>\n",
       "      <th>2</th>\n",
       "      <td>Grand Old Day on the Go</td>\n",
       "    </tr>\n",
       "    <tr>\n",
       "      <th>2</th>\n",
       "      <td>MDRA 7 Mile</td>\n",
       "    </tr>\n",
       "    <tr>\n",
       "      <th>2</th>\n",
       "      <td>Bolder Boulder</td>\n",
       "    </tr>\n",
       "  </tbody>\n",
       "</table>\n",
       "</div>"
      ],
      "text/plain": [
       "                                     race\n",
       "12                            Get in Gear\n",
       "7                             Victory 10K\n",
       "4                      Mora Half Marathon\n",
       "4                              Victory 5K\n",
       "3   Bridle Trails Winter Running Festival\n",
       "3                            MDRA Mudball\n",
       "3                              TC 10 Mile\n",
       "3                         Afton Trail Run\n",
       "3                       Run for the Roses\n",
       "2                                Frigid 5\n",
       "2                 Minnesota Half Marathon\n",
       "2                       Meet of the Miles\n",
       "2                     Lake Johanna 4 Mile\n",
       "2                   Greenland Trail Races\n",
       "2                     Apple Blossom Races\n",
       "2                 Half Fast Half Marathon\n",
       "2                          The Human Race\n",
       "2                 Highland Fest River Run\n",
       "2                           Big Woods Run\n",
       "2                New Prague Half Marathon\n",
       "2                      Pie High Trail Run\n",
       "2                 Grand Old Day on the Go\n",
       "2                             MDRA 7 Mile\n",
       "2                          Bolder Boulder"
      ]
     },
     "metadata": {},
     "output_type": "display_data"
    }
   ],
   "source": [
    "# Summarize races over all distances\n",
    "\n",
    "summarize()"
   ]
  },
  {
   "cell_type": "markdown",
   "metadata": {},
   "source": [
    "### How has my personal best for each distance progressed?"
   ]
  },
  {
   "cell_type": "code",
   "execution_count": 46,
   "metadata": {
    "collapsed": true
   },
   "outputs": [],
   "source": [
    "def personal_best_progression(distance=13.1):\n",
    "    \n",
    "    # In ascending chronological order for a given distance,\n",
    "    # print out all races which set or equalled a previous personal best time.\n",
    "    \n",
    "    dt,dtf = filter_races(distance) \n",
    "    n = len(dt)\n",
    "    if n > 0:\n",
    "        firstrace = dt.iloc[0]\n",
    "        best = firstrace.time\n",
    "        bestyear = firstrace.date.year\n",
    "        timestr = time_formatting(firstrace.time)\n",
    "        print(\"Personal best progression of {} miles ({} race{}):\\n\".format(distance,n,\"\" if n == 1 else \"s\"))\n",
    "        print(\"\\tFirst run {}: {} at {}.\".format(firstrace.date.year,timestr,firstrace.race))\n",
    "        for i in range(n-1):\n",
    "            row = dt.iloc[i+1]\n",
    "            if row.time <= best:\n",
    "                timestr_new = time_formatting(row.time)\n",
    "                print(\"\\tNew PB in {}: {} at {}.\".format(row.date.year,timestr_new,row.race,))\n",
    "                best = row.time\n",
    "    else:\n",
    "        print(\"No races found for distance of {} miles.\".format(distance))\n",
    "\n",
    "    return None"
   ]
  },
  {
   "cell_type": "code",
   "execution_count": 47,
   "metadata": {
    "collapsed": false
   },
   "outputs": [
    {
     "name": "stdout",
     "output_type": "stream",
     "text": [
      "Personal best progression of 13.1 miles (39 races):\n",
      "\n",
      "\tFirst run 2001: 1:41:18 at Mora Half Marathon.\n",
      "\tNew PB in 2007: 1:32:49 at Georgetown to Idaho Springs Half Marathon.\n",
      "\tNew PB in 2008: 1:31:54 at Apple Blossom Races.\n",
      "\tNew PB in 2008: 1:30:52 at American Discovery Trail Half Marathon.\n",
      "\tNew PB in 2008: 1:28:02 at Heart Center of the Rockies Half Marathon.\n",
      "\tNew PB in 2009: 1:27:53 at Indian Summer Half Marathon.\n",
      "\tNew PB in 2010: 1:27:07 at Minnesota Half Marathon.\n",
      "\tNew PB in 2013: 1:25:49 at Half Fast Half Marathon.\n",
      "\tNew PB in 2017: 1:22:35 at Skagit Flats Half Marathon.\n",
      "\tNew PB in 2018: 1:22:16 at Snohomish River Run.\n"
     ]
    }
   ],
   "source": [
    "# Example of progression of personal bests\n",
    "\n",
    "d = 13.1\n",
    "personal_best_progression(d)"
   ]
  },
  {
   "cell_type": "markdown",
   "metadata": {},
   "source": [
    "### How have I done, year over year, in setting personal bests?"
   ]
  },
  {
   "cell_type": "code",
   "execution_count": 48,
   "metadata": {
    "collapsed": true
   },
   "outputs": [],
   "source": [
    "# Only consider PBs at the most common/iconic distances. \n",
    "distances = {1:\"1 mile\",\n",
    "             3.1:\"5 km\",\n",
    "             6.2:\"10 km\",\n",
    "             13.1:\"half marathon\",\n",
    "             26.2:\"marathon\"}\n",
    "\n",
    "distances_rev = {v:k for k,v in distances.items()}"
   ]
  },
  {
   "cell_type": "code",
   "execution_count": 49,
   "metadata": {
    "collapsed": false
   },
   "outputs": [
    {
     "name": "stdout",
     "output_type": "stream",
     "text": [
      "(1997, ['5 km'])\n",
      "(1998, ['5 km'])\n",
      "(1999, ['5 km', '10 km'])\n",
      "(2000, ['5 km', '10 km'])\n",
      "(2001, ['5 km', 'half marathon'])\n",
      "(2002, ['5 km', '10 km'])\n",
      "(2003, ['10 km'])\n",
      "(2004, ['marathon'])\n",
      "(2005, None)\n",
      "(2006, None)\n",
      "(2007, ['half marathon'])\n",
      "(2008, ['half marathon'])\n",
      "(2009, ['half marathon'])\n",
      "(2010, ['5 km', 'half marathon'])\n",
      "(2011, ['5 km', '10 km'])\n",
      "(2012, ['marathon'])\n",
      "(2013, ['half marathon'])\n",
      "(2014, ['10 km'])\n",
      "(2015, ['1 mile', '5 km'])\n",
      "(2016, ['1 mile', '5 km', '10 km', 'marathon'])\n",
      "(2017, ['half marathon'])\n",
      "(2018, ['10 km', 'half marathon'])\n",
      "(2019, None)\n"
     ]
    }
   ],
   "source": [
    "# Find range of years of active running\n",
    "pb = {}\n",
    "start_year = pd.to_datetime(run.iloc[0].date).year\n",
    "this_year = datetime.datetime.now().year\n",
    "for year in range(start_year,this_year+1):\n",
    "    pb[year] = []\n",
    "\n",
    "# Append if a PB is set for any of the selected distances\n",
    "for distance in distances.keys():\n",
    "    dt,dtf = filter_races(distance) \n",
    "    n = len(dt)\n",
    "    if n > 0:\n",
    "        firstrace = dt.iloc[0]\n",
    "        best = firstrace.time\n",
    "        pb[firstrace.date.year].append(distances[distance])\n",
    "        for i in range(n-1):\n",
    "            row = dt.iloc[i+1]\n",
    "            if row.time <= best:\n",
    "                pb[row.date.year].append(distances[distance])\n",
    "                best = row.time\n",
    "\n",
    "# Print list of results for each year\n",
    "years = sorted(list(pb.keys()))\n",
    "for year in years:\n",
    "    sorted_pbs = sorted(list(set(pb[year])),key = lambda x: distances_rev[x])\n",
    "    print(year, sorted_pbs if len(pb[year]) > 0 else None)"
   ]
  },
  {
   "cell_type": "markdown",
   "metadata": {},
   "source": [
    "2016 was a really good year for me - PRs at four distances, from 1 mile up to the marathon. And I've been lucky to be consistently improving, even well into my 30s; except for my break from running in 2005 and 2006, I've set a PR at one of the standard distances every single year. "
   ]
  },
  {
   "cell_type": "markdown",
   "metadata": {
    "collapsed": true
   },
   "source": [
    "#### Number of races per year\n",
    "\n",
    "Plot the total number of races per year and label the maximum."
   ]
  },
  {
   "cell_type": "code",
   "execution_count": 50,
   "metadata": {
    "collapsed": true
   },
   "outputs": [],
   "source": [
    "from matplotlib import pyplot as plt\n",
    "import seaborn as sns\n",
    "\n",
    "%matplotlib inline"
   ]
  },
  {
   "cell_type": "code",
   "execution_count": 53,
   "metadata": {
    "collapsed": true
   },
   "outputs": [],
   "source": [
    "def label_max(histobj,ax,title):\n",
    "    counts,yearbins,desc = histobj\n",
    "    argmax = counts.argmax()\n",
    "    ax.text(yearbins[argmax],counts[argmax],\"{:.0f}: {:.0f} {}\".format(yearbins[argmax]+eps,counts[argmax],title)\n",
    "         ,va='bottom'\n",
    "         ,color='red')"
   ]
  },
  {
   "cell_type": "code",
   "execution_count": 51,
   "metadata": {
    "collapsed": true
   },
   "outputs": [],
   "source": [
    "# Number of races per year\n",
    "years = [x.year for x in pd.to_datetime(run.date)]\n",
    "\n",
    "# Number of total miles run each year in races\n",
    "z = [(d.year,int(m)) for d,m in zip(pd.to_datetime(run.date),run.d_mi)]\n",
    "l = [[a,]*b for a,b in z]\n",
    "flat_list = [item for sublist in l for item in sublist]"
   ]
  },
  {
   "cell_type": "code",
   "execution_count": 52,
   "metadata": {
    "collapsed": true
   },
   "outputs": [],
   "source": [
    "# Number of total miles run each year in races\n",
    "z = [(d.year,int(m)) for d,m in zip(pd.to_datetime(run.date),run.d_mi)]\n",
    "l = [[a,]*b for a,b in z]\n",
    "flat_list = [item for sublist in l for item in sublist]"
   ]
  },
  {
   "cell_type": "code",
   "execution_count": 54,
   "metadata": {
    "collapsed": false
   },
   "outputs": [
    {
     "data": {
      "image/png": "[encoded data removed]",
      "text/plain": [
       "<Figure size 1152x504 with 2 Axes>"
      ]
     },
     "metadata": {},
     "output_type": "display_data"
    }
   ],
   "source": [
    "fig,axarr = plt.subplots(1,2,figsize=(16,7))\n",
    "eps = 0.5\n",
    "bins = np.arange(min(years)-eps,max(years)+eps+1,1)\n",
    "\n",
    "for ax,data,label in zip(axarr,(years,flat_list),('races','miles')):\n",
    "    histobj = ax.hist(data,bins=bins)\n",
    "    ax.set_xlabel(\"Year\",fontsize=14)\n",
    "    ax.set_ylabel(label.capitalize(),fontsize=14)\n",
    "    label_max(histobj,ax,label);"
   ]
  },
  {
   "cell_type": "markdown",
   "metadata": {},
   "source": [
    "### Total race miles"
   ]
  },
  {
   "cell_type": "code",
   "execution_count": 55,
   "metadata": {
    "collapsed": false
   },
   "outputs": [
    {
     "name": "stdout",
     "output_type": "stream",
     "text": [
      "I've run 1836 total miles in 165 races.\n"
     ]
    }
   ],
   "source": [
    "print(\"I've run {:.0f} total miles in {:d} races.\".format(run['d_mi'].sum(),len(run)))"
   ]
  },
  {
   "cell_type": "code",
   "execution_count": 57,
   "metadata": {
    "collapsed": false,
    "scrolled": false
   },
   "outputs": [
    {
     "data": {
      "text/html": [
       "<div>\n",
       "<style scoped>\n",
       "    .dataframe tbody tr th:only-of-type {\n",
       "        vertical-align: middle;\n",
       "    }\n",
       "\n",
       "    .dataframe tbody tr th {\n",
       "        vertical-align: top;\n",
       "    }\n",
       "\n",
       "    .dataframe thead th {\n",
       "        text-align: right;\n",
       "    }\n",
       "</style>\n",
       "<table border=\"1\" class=\"dataframe\">\n",
       "  <thead>\n",
       "    <tr style=\"text-align: right;\">\n",
       "      <th></th>\n",
       "      <th>date</th>\n",
       "      <th>race</th>\n",
       "      <th>d_km</th>\n",
       "      <th>d_mi</th>\n",
       "      <th>location</th>\n",
       "      <th>time</th>\n",
       "      <th>pace</th>\n",
       "      <th>place_overall</th>\n",
       "      <th>finishers_overall</th>\n",
       "      <th>place_division</th>\n",
       "      <th>finishers_division</th>\n",
       "      <th>division</th>\n",
       "    </tr>\n",
       "  </thead>\n",
       "  <tbody>\n",
       "    <tr>\n",
       "      <th>126</th>\n",
       "      <td>5/14/16</td>\n",
       "      <td>Lake Wobegon Trail Marathon</td>\n",
       "      <td>42.2</td>\n",
       "      <td>26.2</td>\n",
       "      <td>St. Joseph, MN</td>\n",
       "      <td>2:56:33</td>\n",
       "      <td>6:45</td>\n",
       "      <td>5</td>\n",
       "      <td>326</td>\n",
       "      <td>1</td>\n",
       "      <td>18</td>\n",
       "      <td>M 30-34</td>\n",
       "    </tr>\n",
       "    <tr>\n",
       "      <th>135</th>\n",
       "      <td>4/17/17</td>\n",
       "      <td>Boston Marathon</td>\n",
       "      <td>42.2</td>\n",
       "      <td>26.2</td>\n",
       "      <td>Boston, MA</td>\n",
       "      <td>3:07:54</td>\n",
       "      <td>7:10</td>\n",
       "      <td>2441</td>\n",
       "      <td>26411</td>\n",
       "      <td>1531</td>\n",
       "      <td>4774</td>\n",
       "      <td>M 18-39</td>\n",
       "    </tr>\n",
       "    <tr>\n",
       "      <th>72</th>\n",
       "      <td>6/16/12</td>\n",
       "      <td>Grandma's Marathon</td>\n",
       "      <td>42.2</td>\n",
       "      <td>26.2</td>\n",
       "      <td>Duluth, MN</td>\n",
       "      <td>3:21:42</td>\n",
       "      <td>7:42</td>\n",
       "      <td>521</td>\n",
       "      <td>5785</td>\n",
       "      <td>241</td>\n",
       "      <td>1342</td>\n",
       "      <td>M 19-34</td>\n",
       "    </tr>\n",
       "    <tr>\n",
       "      <th>163</th>\n",
       "      <td>6/1/19</td>\n",
       "      <td>Luxembourg Marathon</td>\n",
       "      <td>42.2</td>\n",
       "      <td>26.2</td>\n",
       "      <td>Luxembourg City, Luxembourg</td>\n",
       "      <td>3:31:18</td>\n",
       "      <td>8:04</td>\n",
       "      <td>109</td>\n",
       "      <td>1328</td>\n",
       "      <td>23</td>\n",
       "      <td>174</td>\n",
       "      <td>M 35-39</td>\n",
       "    </tr>\n",
       "    <tr>\n",
       "      <th>131</th>\n",
       "      <td>11/20/16</td>\n",
       "      <td>Philadelphia Marathon</td>\n",
       "      <td>42.2</td>\n",
       "      <td>26.2</td>\n",
       "      <td>Philadelphia, PA</td>\n",
       "      <td>3:50:32</td>\n",
       "      <td>8:47</td>\n",
       "      <td>2600</td>\n",
       "      <td>8989</td>\n",
       "      <td>314</td>\n",
       "      <td>733</td>\n",
       "      <td>M 30-34</td>\n",
       "    </tr>\n",
       "    <tr>\n",
       "      <th>29</th>\n",
       "      <td>10/3/04</td>\n",
       "      <td>Twin Cities Marathon</td>\n",
       "      <td>42.2</td>\n",
       "      <td>26.2</td>\n",
       "      <td>Minneapolis/St. Paul, MN</td>\n",
       "      <td>3:53:28</td>\n",
       "      <td>8:55</td>\n",
       "      <td>2231</td>\n",
       "      <td>7304</td>\n",
       "      <td>41</td>\n",
       "      <td>106</td>\n",
       "      <td>M 1-21</td>\n",
       "    </tr>\n",
       "    <tr>\n",
       "      <th>96</th>\n",
       "      <td>8/23/14</td>\n",
       "      <td>Urban Trail Marathon</td>\n",
       "      <td>42.2</td>\n",
       "      <td>26.2</td>\n",
       "      <td>St. Paul, MN</td>\n",
       "      <td>3:58:11</td>\n",
       "      <td>9:05</td>\n",
       "      <td>12</td>\n",
       "      <td>75</td>\n",
       "      <td>4</td>\n",
       "      <td>16</td>\n",
       "      <td>M 30-39</td>\n",
       "    </tr>\n",
       "    <tr>\n",
       "      <th>45</th>\n",
       "      <td>10/4/09</td>\n",
       "      <td>Blue Sky Marathon</td>\n",
       "      <td>42.2</td>\n",
       "      <td>26.2</td>\n",
       "      <td>Fort Collins, CO</td>\n",
       "      <td>4:28:36</td>\n",
       "      <td>10:14</td>\n",
       "      <td>10</td>\n",
       "      <td>50</td>\n",
       "      <td>1</td>\n",
       "      <td>5</td>\n",
       "      <td>M 1-29</td>\n",
       "    </tr>\n",
       "    <tr>\n",
       "      <th>50</th>\n",
       "      <td>7/3/10</td>\n",
       "      <td>Leadville Trail Marathon</td>\n",
       "      <td>42.2</td>\n",
       "      <td>26.2</td>\n",
       "      <td>Leadville, CO</td>\n",
       "      <td>5:03:55</td>\n",
       "      <td>11:35</td>\n",
       "      <td>37</td>\n",
       "      <td>327</td>\n",
       "      <td>8</td>\n",
       "      <td>30</td>\n",
       "      <td>M 20-29</td>\n",
       "    </tr>\n",
       "    <tr>\n",
       "      <th>52</th>\n",
       "      <td>8/22/10</td>\n",
       "      <td>Pikes Peak Marathon</td>\n",
       "      <td>42.2</td>\n",
       "      <td>26.2</td>\n",
       "      <td>Manitou Springs, CO</td>\n",
       "      <td>5:35:24</td>\n",
       "      <td>12:48</td>\n",
       "      <td>77</td>\n",
       "      <td>691</td>\n",
       "      <td>12</td>\n",
       "      <td>31</td>\n",
       "      <td>M 25-29</td>\n",
       "    </tr>\n",
       "  </tbody>\n",
       "</table>\n",
       "</div>"
      ],
      "text/plain": [
       "         date                         race  d_km  d_mi  \\\n",
       "126   5/14/16  Lake Wobegon Trail Marathon  42.2  26.2   \n",
       "135   4/17/17              Boston Marathon  42.2  26.2   \n",
       "72    6/16/12           Grandma's Marathon  42.2  26.2   \n",
       "163    6/1/19          Luxembourg Marathon  42.2  26.2   \n",
       "131  11/20/16        Philadelphia Marathon  42.2  26.2   \n",
       "29    10/3/04         Twin Cities Marathon  42.2  26.2   \n",
       "96    8/23/14         Urban Trail Marathon  42.2  26.2   \n",
       "45    10/4/09            Blue Sky Marathon  42.2  26.2   \n",
       "50     7/3/10     Leadville Trail Marathon  42.2  26.2   \n",
       "52    8/22/10          Pikes Peak Marathon  42.2  26.2   \n",
       "\n",
       "                        location     time   pace  place_overall  \\\n",
       "126               St. Joseph, MN  2:56:33   6:45              5   \n",
       "135                   Boston, MA  3:07:54   7:10           2441   \n",
       "72                    Duluth, MN  3:21:42   7:42            521   \n",
       "163  Luxembourg City, Luxembourg  3:31:18   8:04            109   \n",
       "131             Philadelphia, PA  3:50:32   8:47           2600   \n",
       "29      Minneapolis/St. Paul, MN  3:53:28   8:55           2231   \n",
       "96                  St. Paul, MN  3:58:11   9:05             12   \n",
       "45              Fort Collins, CO  4:28:36  10:14             10   \n",
       "50                 Leadville, CO  5:03:55  11:35             37   \n",
       "52           Manitou Springs, CO  5:35:24  12:48             77   \n",
       "\n",
       "     finishers_overall  place_division  finishers_division division  \n",
       "126                326               1                  18  M 30-34  \n",
       "135              26411            1531                4774  M 18-39  \n",
       "72                5785             241                1342  M 19-34  \n",
       "163               1328              23                 174  M 35-39  \n",
       "131               8989             314                 733  M 30-34  \n",
       "29                7304              41                 106   M 1-21  \n",
       "96                  75               4                  16  M 30-39  \n",
       "45                  50               1                   5   M 1-29  \n",
       "50                 327               8                  30  M 20-29  \n",
       "52                 691              12                  31  M 25-29  "
      ]
     },
     "execution_count": 57,
     "metadata": {},
     "output_type": "execute_result"
    }
   ],
   "source": [
    "d = 26.2\n",
    "run[run['d_mi'] == d].sort_values([\"d_km\",\"time\",\"date\"],axis=0,ascending=[1,1,0])"
   ]
  },
  {
   "cell_type": "code",
   "execution_count": null,
   "metadata": {
    "collapsed": true
   },
   "outputs": [],
   "source": []
  }
 ],
 "metadata": {
  "kernelspec": {
   "display_name": "Python 2",
   "language": "python",
   "name": "python2"
  },
  "language_info": {
   "codemirror_mode": {
    "name": "ipython",
    "version": 2
   },
   "file_extension": ".py",
   "mimetype": "text/x-python",
   "name": "python",
   "nbconvert_exporter": "python",
   "pygments_lexer": "ipython2",
   "version": "2.7.13"
  }
 },
 "nbformat": 4,
 "nbformat_minor": 2
}
