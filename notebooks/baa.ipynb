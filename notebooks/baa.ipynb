{
 "cells": [
  {
   "cell_type": "code",
   "execution_count": 79,
   "metadata": {
    "collapsed": true
   },
   "outputs": [],
   "source": [
    "from bs4 import BeautifulSoup\n",
    "import os,glob\n",
    "import pandas as pd"
   ]
  },
  {
   "cell_type": "code",
   "execution_count": 97,
   "metadata": {
    "collapsed": true
   },
   "outputs": [],
   "source": [
    "#path = \"{}/baa\".format(os.path.expanduser(\"~\"))\n",
    "path = \"../\""
   ]
  },
  {
   "cell_type": "code",
   "execution_count": 98,
   "metadata": {
    "collapsed": false
   },
   "outputs": [],
   "source": [
    "codes = pd.read_csv(\"{}/data/codes.csv\".format(path))"
   ]
  },
  {
   "cell_type": "code",
   "execution_count": 121,
   "metadata": {
    "collapsed": false
   },
   "outputs": [
    {
     "name": "stdout",
     "output_type": "stream",
     "text": [
      "\n",
      "Countries with less than 50 participants:\n",
      "\t 1, Albania\n",
      "\t 1, Azerbaijan\n",
      "\t 1, Burundi\n",
      "\t 1, Bosnia and Herzegovina\n",
      "\t 1, Brunei Darussalam\n",
      "\t 1, Central African Republic\n",
      "\t 1, CAM\n",
      "\t 1, CAY\n",
      "\t 1, Cuba\n",
      "\t 1, Eritrea\n",
      "\t 1, GRN\n",
      "\t 1, Jamaica\n",
      "\t 1, Malta\n",
      "\t 1, Mozambique\n",
      "\t 1, Namibia\n",
      "\t 1, NCA\n",
      "\t 1, PAR\n",
      "\t 1, San Marino\n",
      "\t 1, SRI\n",
      "\t 1, Tunisia\n",
      "\t 1, ZAM\n"
     ]
    }
   ],
   "source": [
    "files = glob.glob(\"{}/data/country*.html\".format(path))\n",
    "\n",
    "page_lim = 50\n",
    "no_data = 0\n",
    "results = []\n",
    "for file in files:\n",
    "    with open(file,\"r\") as f:\n",
    "        soup = BeautifulSoup(f,'html.parser')\n",
    "\n",
    "    t = soup.find(attrs={'class':'tablegrid_table'})\n",
    "\n",
    "    try:\n",
    "        trs = t.find('tbody').find('tr')\n",
    "        l = len(t.find('tbody').find_all('tr'))\n",
    "        for j,x in enumerate(trs.find_all('td')):\n",
    "            if j == 8:\n",
    "                country = x.contents[0].strip()\n",
    "        if l == 3:\n",
    "            results.append((country,l-2))\n",
    "        else:\n",
    "            results.append((country,l-2))\n",
    "\n",
    "    except AttributeError:\n",
    "        no_data += 1\n",
    "\n",
    "results.sort(key=lambda x: x[0])\n",
    "\"\"\"\n",
    "print(\"\\nCountries with less than {} participants:\".format(page_lim))\n",
    "for r in results:\n",
    "    if r[1] < page_lim:\n",
    "        code = r[0]\n",
    "        try:\n",
    "            name = codes[codes['ISO-alpha3 Code'] == code]['Country or Area'].values[0]\n",
    "            print(\"\\t{:2}, {}\".format(r[1],name))\n",
    "        except IndexError:\n",
    "            print(\"\\t{:2}, {}\".format(r[1],code))\n",
    "\n",
    "\"\"\"\n",
    "print(\"\\nCountries with less than {} participants:\".format(page_lim))\n",
    "for r in results:\n",
    "    if r[1] == 1:\n",
    "        code = r[0]\n",
    "        try:\n",
    "            name = codes[codes['ISO-alpha3 Code'] == code]['Country or Area'].values[0]\n",
    "            print(\"\\t{:2}, {}\".format(r[1],name))\n",
    "        except IndexError:\n",
    "            print(\"\\t{:2}, {}\".format(r[1],code))\n"
   ]
  },
  {
   "cell_type": "markdown",
   "metadata": {},
   "source": []
  }
 ],
 "metadata": {
  "kernelspec": {
   "display_name": "Python [conda root]",
   "language": "python",
   "name": "conda-root-py"
  },
  "language_info": {
   "codemirror_mode": {
    "name": "ipython",
    "version": 3
   },
   "file_extension": ".py",
   "mimetype": "text/x-python",
   "name": "python",
   "nbconvert_exporter": "python",
   "pygments_lexer": "ipython3",
   "version": "3.5.2"
  }
 },
 "nbformat": 4,
 "nbformat_minor": 2
}
